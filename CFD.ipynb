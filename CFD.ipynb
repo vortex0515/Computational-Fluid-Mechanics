{
  "nbformat": 4,
  "nbformat_minor": 0,
  "metadata": {
    "colab": {
      "provenance": []
    },
    "kernelspec": {
      "name": "python3",
      "display_name": "Python 3"
    },
    "language_info": {
      "name": "python"
    }
  },
  "cells": [
    {
      "cell_type": "markdown",
      "source": [
        "MINI PROJECT TO CONVERT PARTIAL DIFFERENTIAL EQUATIONS TO ORDINARY DIFFERENTIAL EQUATIONS USING COMMON FLUID MECHANICS EQUARIONS"
      ],
      "metadata": {
        "id": "i326wj1oTEaO"
      }
    },
    {
      "cell_type": "markdown",
      "source": [
        "**USING FINITE DIFFERENCE METHOD**"
      ],
      "metadata": {
        "id": "tWbStVN3-7VT"
      }
    },
    {
      "cell_type": "markdown",
      "source": [
        "NAME OF EQUATION: 2-D heat equation\n",
        "\n",
        "\n",
        "![image.png](data:image/png;base64,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)\n",
        "\n",
        "![image.png](data:image/png;base64,iVBORw0KGgoAAAANSUhEUgAAAcIAAAAnCAYAAACc5kjAAAAXTklEQVR4Ae3dBdB9QVUA8GN3K3aL2Njd3Y1d2IpiK4qKIEqoiI3YqFjY2AV2d46oiIkx1jijgjG/v3v+c9i5+b733ne/77tn5s3d++7evbvn7t3TZyNOAy8eER8eEe8cET8bEW93msdcu1bvHhFvHRFfGREPu3aj2we0Y2DHwI6BK4qBO0bE90XE04/0/7ki4tUi4mnL9ftExNu0c9d+qVxbU3zWiPjJiHihNTdtoO5TRMQ3RcRrjPTlaSLiVSLiDuX6S0fEN5bzP4mIlyzna4pfEBHvu+aGve6OgR0DOwZ2DAxjAAH6jYhA7IYAsXvFiHiWiPjgQvxeuNzzuhHxy+XmT4iI74iIz2q/H2wEwPkDI+KnIuK1Sv2Xb/dXQlsub7L48Ih475GevUKT+hDDN42IT42IJ48I58aagBDeqZ28bMPLfRvOvjYifqLg8Psj4t55Y0Q8Zav/+uW/LRa/LCK+rozjURHxkHb+xRHh/Hm22PGZPr1ARHjP71a+A7eYwz8WEQ9uY3Q0xge0c8zTt8+0farLmLcfiIgvbX35/NY3TJVv03v6oVM9/EztYsox1hh1Y/r6iPjhVnb+yIi4x5n6cszHPFljmmmT3qBr+IMi4nvKGJW/rZ1/bltH3HcZ4Puw/sO9H7rwna1srfvxiHj3y+hYfabF+dFN2qv/Z5m0YxJVQMSeufzhBRnYG5f/SJcIJ3D9nxpBaH/FxzVpKc8dvaiH1j82XL5bW+jGukg6fqly8WMi4r3KueJ7RAQikXCviKhE7Ys66fE5IuJLsnI7wvHPRcSzdf9v5fT5IuJbIuKpWocwXf/bSclf0xiErfR5ST9ePSJetVXEQP5ORLx2O/dRf2xphNT+x+UcA/MN5fwYRXPtGRc09GYdM4XJfXz7Rt1uPagaiwVNbq7KF0aE95OAofyKPIkIDMz9yvlVKX5gRDxd66z183tLxzHJVZDBYNf1RvktS/1jFGm7lsC3NpxnXQKT9TPhrSYEiqxz8uOnRYTfGDx/RLxtd9HEetfyn0W+qjVNwlcu15Wf2KldSVLPUOpk8asiAmK2DNTIvxIRTz3RyTppVUPgTNYEEnbPBX1EXmzH324SeP6NofjQPCnH12lcVvlrM0UTvhLp94uI3+96R8tw1cDHjdNN8A1hKMFntGMevrpJwHnuyLZ+TDAv7rygwU8vRE912pleOr2K7yOHTuL9pDxpxz/t3hWJ/QO6Ols/tabSDtEoAczUf0TEG7X3XtdMzCdms2pZ3rxbo1szFzpUJn6soRfsiNwztb69TLkBQ5lMZfn7fEUI++uG1KmnUoHiKEiHbIjfXIjnmxQEp5qwDlK7uJef7x7wct15niKojykvPP/f0pHq6B1mOkQCslDiwF8kIkzEP2r3vERRbVi8qERN8BctbeLuTGZENwHhref5v+OPRoR3sTV4pa5DpL/+A6qq4q76Zk+pFCvB+LCI+KvW254g4c5J/xWoVI8JSwlh/z5oLnoG7Cq+j8Sl78a6lkD68x09Z/7RtFnWtKsE1lSMdGUqrd3eu3eKSU54n4j4wzxpx35OdpcPOu2/46FGrG2pDXIdwaaBqGA9TEm3/n+2Mo9FOtopeMeI+MxSwTl74kc2rtYkyx/bxxB4gewjS+HLI+KjllY+cz3E5s+aCmns0Zxj6OdxP8BkMCaLDg7pnwvO/nuE6JO4/7Hdv+TwmhHx60sqXnIduKuS1CV352iPZ1tji+oBV+77qNx5X+cY50sJYX0WVer/RETPuNY6V738/hHxB1d9EAP9x1xbOxCRHjCbPNJPDUsIYd+Hz9ua9gqH9ISIeO6+p+WcStPizW6QQM9MzblUP4xT+bfiYJPtTB1JRmwqlcuZqn/OaxwNpgztVBZw1nPepIXevjfVb5OsV1lN1XdNCEt1QJqrf+7ruHBE4dkHHkxDYDFfCuylpLAlDgCfGBHqnwp8C7QYQ8TOQtxz59kPUiIGZgw4fbzT2MXu/0MIIZPHGLOFc3+L7hlTpxZmDPOYxqLeSx17LsCcVPtgfS7mPFWN9f8sf0inpcn/x47WLc4gLzZW4Yj/c4b55JH2qILfc+Casc4JJPcfuG/sr0MI4a929sFs21o/tz6aX0slR+3RbHDKq/Qrn3f7+CktXOL2HwOFX4sItq4KuHki+VIiRfeLc1liyK/P+b2I4Im6JWAvNZapRfWjmydn7bcXQZ+/ZmEx/rVSsXfKxrpVYJfp7YPZV3Yb0nIPNA9DgODfs1NPDtXzn4UJgzIEbHXpzTZ0RESngNOYRYkKbghIij7GIUA4U2swdN03U9V8tY5Y1Npfzmm0DvU/2pspoN4dY7bM8aqGm2qHyt77oGFCvOcgvaTn6h3j+t8M2OKz3bl+eKdD4WRDcxKRYTpiO+6Z4HyeI6em+o6GynP2MnP242ujpTyngagOfOW228UxnFDl933l9NL/JxRuDFIDQUM2BHNM1Fzfa5uYberg3+pUs7XOrTKppXru9BWo93DvvS6dyo/NbykwXFOlrgWcCdf6LQF81RCRob7xsOX9WYFnHseXpWABgvu1diQqLhw+h4EtAk9Ji3UPiOCYDaN3PKn3CtGpdrp6LcskzepNl/8f4wjPXPTTO3pIu/LYAfugZ/u+qk24748PeWzB6Os6P0QixOgOLerGc0hsK6I/FlOrj5hni/xSrn5onGv+g98xDYTxTS3akoWMMSFTc5J5aKm2bM1Ysi6nu+pk1885Goj0Rch7HOGew82UdOTdDDkw1nZqea1EKOHKmAYCzsaYVc/EXOR3VvswV/7NKanfYNkGBHePQdapiLPQUgFNeUv27VElCgNYC6RBz9oSCBGZUx1gFEzGCpiON6x/zJRJ3dTJh4CFd2uSdI4Dd97bB3HSVISkpufNiuU4tejMEULqPXOVI9EpwHuuizpVbQXqQgtxrzLF2VqUqvt7vc+CxGmMhFWdPGqdvryWECZ33tsHaT3YwX23a2GKEFqI377FzApvOAfcdcQ+yLyTarOhfnBwI6mLfRuCqTl5SkKIePMSTcAwV6Lof+9gyD7IkVHdGlKR7Xg3nP/YG+fUk3mP41pCKFZVDGEP+uVbHdOAMQ/QUIz5oPTt1fNJQsiuYlGaAx9ixgYSmX0cU8Qz27O4Wfi5ylMJ0ks7X0PRtTG0iOQzLuOIm/GRTAH1ZzpNGAP7xFJXeSEV2hea4QXC2VrO3ETjIr8VINkYB7Wt9ynw13lyfyQji44AaEDKquoW/9fzKiXNEUK4Q4x4OR8baDqMp/7yI6eKNUbxk//eylXdZcFBcHxfQ5AqIuEY1eNuqG7+t5QQUj/rm8VS333f1U7p2b5TTF8CNVx9B1lmBqgwRQgt2hYzUoHkEqcEvg2+Q9/Qz7TxVqcSZTa03uyTfYIDKu+Mn6YizTE79nOy2rxPRQjh7nHdfPP+aDwQMu/0LhHxLy1ZgvPKRBkzZrPiIcdLMlYXMZoi8lk/j0sJISkWMfu7Nuf1rTK9+vQ5XexnPgMjiyk0Rx/U/qSuru+jluGgwiQhZHSUXWEOINiE4vpvga7S4dS9VF0G2//WEELtk26WOgtM9ecY15K7NyHnAMdPHYrLstAvBYSwx9mYzn6sTao6NqutAHz1Y3KehFA/SbC8yYZsUlMf5hwh1DapYCkjsgZnbGH9uHKRoVbrr1VC6DniDhGFoTG7TmITN7YUlhJCi0rft97BCr5Iu2N9G+vTFCHMeyxmp9ZYULP1Y8x3k/3A1Bvf2Bg5ElVv+bzPcWpOnooQUu/3Y3LuO8I8Dl2rhJDm4qfbeK3rQ8CJSTtLYSkhlAWn718lhPovvI4Wcozx46Aop/VamCSE3x0R51JPrO14rU81MeWhWeuuLU/ZB4ba4nggO87WgZrxqrmLSwFFVdUnboDrqUXH3KhEDgGSOqwCu2Sv/qvXL6uMEbVQpU1Nkopq78FI1XR6c/3EMCGexwDrg++jquGWtIsISO6QYPGjCahgwatMUL02VrZArjHHjLWT/2PUjVFfSX5U14h4BY5EY0Rhak7SCuQ7re1ddlmaR4lPzCvweiUWvP11ixjBzVKoSVOW3jNUj/0PA58e4NolIVYgnVfJu16bKlsLzZ9B4Lgxpo8dvOGS/kSsT5Vyba0jDu9BKsutg0n1n1vvZNc/DlnsR0ML5NiiQ7WVXGZmObJ49675vG+3CKSwumCyk9SFl4R8WQkSzKE0iSzBXSaP0H/30SABziqVkUWoUwXeqiw60KxU3Cy6aaYSpivNDhZ/a03VeP1it8FAbW5oTjKDsH8nDhCeLQGJ8F0Ks0XDVTOKeTdSNV4G+O6pNJkLAIawMoGuzzkptltvH6izaVy8D/Ox18jcqsjWNedafbvFSyzwvqxpyY7ZlaVifT7Th4KL3DpMecod0ndSC+LCPR93X51Dsr0hSS6vXfS4Vo1mAUJY2fDYFUibVwFw6BZkEi3CggMeUxNdhfHoI5UXqZLkRVMhLm8ovm1uPMwjp2YKtE/isADTLEiLNwZr5+RYO5f5v3djzJy2ONIIbdrSTjZMcfwBqPytLzV379HwJhbu2AlYj9a50hBR/hfK+TGLawkh1Qnnh62Dj5kRPbndi/TXx/JdbWHg0EJqEbSfKjMcNIeJTDZ9kWcd415EGuHGUfqofUBj9pBjPO+YbWQcogWJdHyqkI9j9nmuLXYg3Dy1N/vOoVLSOQgh5olUxJkL/s396wzUwdTNiA2NyqHv5hQ4soZxiOF0hoHixHMSQAhzMTvJA47UqEl5KtXWIYQwvUGPNLyTNIM4IYSDqoCVT7Q49AwThydSC4KIScHl77Bj4JQYOAchPGX/97Y3ioH/6ozaQ90UaCv4+ZQ/4RVTQOcuXdBFAWdRXWyVh7IiJFc+9DyqkrmsLYy8p8RXtj3Uv/qfkBWqtmMBIzYX+rGsIWMZH6j6ss/7ccdFPwfScaOfp5Ik1O9VthZMaP1vKB5OOyTP/jn7+Y6TnANPMtcEa6dB+0kubOxEFvWhLAnH6OZaiZAUdIp4tGOMpW+DRFhjw/rra86pg+1PJxhWhiDnVW1HFUly32HHwKkwsEuEp8LsDW/37zcUnzf1KqjdTrWjwlpCyJ16S/F5Y3jjYIEQsstcFDKQuLYjONbGzGymXJ5tSbU2FKW2t5d3DMxhYCeEcxjarx+EAVLWnFpyqGHBp9Rjo3EZQzc1e6SFGWEbym04ctstT6FTpcdaSwi5Gq8JcK5j4qrMJX2NAV4QKkM254k1uV29I4SwT+tV+7O0zEFmKODYOKhLeXSps8M6DHAukqGJxgMzscM0BnZCOI2fJVepoSUasJZkuNGS+651HRz92jhC3jtSd0Go9Ex9Ps0xhMlkwfMwwTYcU8mGs54jdZyA6FPAWkKIIOn7GiCdCQzlwYjxoFYc25C4tsvrkaSVIE3UktR26kvULY/sVfGWzDFetyM1OoZkaEcNuWeTKSJZi3faYRwDOyEcx01e4SVOe2a3hR5ocaylwLrwlwcIM+3263WwceOa5KoIV797ggwRU84liTEfPHfkBNvwkI6WgKTE/U4OS+5bUmdtVgSTaW0ibDt/1zg22ewF6s6ByVpxZuFcGrtk0bD57Q6XiwEu4Lljfd8TDh3JqGCODtHO9G1e53PM9JLUhtcZB0vGZh5xCulBWEgyW8JZ5CPd8dk2dFyj5uN12SfKvV9L2dMjfepcEL/dGZaC0AlZJbYApDQc/hLin/0VPNyHqfzuColYO3K9CmZfCjbrrBL40vv2esfFAIYEkZsCqd+EoKxJazXV3n7tZmOAdmHMmzYxIzDd2r1Dyyhgc901wFNQkmNbzYglk22kqhddz/3zBGrKWFCBjVA+xaU5A3ExTzySrav24yJlO3bM7T7Rt0/6lbyXhCfGz27l6bErTm8s9EA71B3cxoeyufTPyXOu5j3Tktf24/kw8OCIoBGQNoq9Fydege314TtnXlGyly+IAaFmGHVrrQT+PQiatxNQaiP66zfuHAeKyNQM4FNIkCLpES15MZFarj0JsTMxKhsYTkN6ItzGZzduOJ08SFOcAtjMOHEsSYLMGeNUwfRTY526Jqlwn0R4qj4HG7FPmAS2QZly4F2OSQZrdlohCYg+oH7N7W/g+b6NcbBoLlUnSwx+jGD61qX9cCAGZL33LZgvmMea29b3J5cob1uLUq81OPCR+203GAMYLoy6tdd6jIGuTDsfA2kHASJJdb9Dy2W4JCsI+yCCJOVNgoVcUD61JYTmDgAkmD9vkg/pUSyb+xhxHxURdsSmXlzibm+h6BMo5/Mv60jVKaPKEuBcQ1VRgb0T3kh4mAaLIHzl9lTsiRySJPCV4BvOHOFsCdOC2P5tfeBevhQMYFwwPEwKQKwl23gC1bUEx5ygvNul9t+8fz/uGOgxwAMZU53SntjeXD8JInZhsJ5Yy6/CLjr9+E52blPKJbYnDiv37HrB0UT2EpKMUAoLN+AEQGo6BnhhdRPWY7R50TYQMONOwjXWnuv/GhF37ipQkebO36RESW9rbKLM/BfJ22mHjPQO6x69n54RAxwTcpNej6XdOFXy+DMOa3/UhjEg8xVimGBDcOFNO8xgABGzY/CU/YlN6wkR0W/cKd2WAPMeqH+kR7ookCTntjxKbrs+a4nUVOsfUiblzXn5SRL7DwON48gq9y9lG8kRsCG5p7cltcuLDo+ZSbZNJdfHF2JihmIFFz1wrzSIAcxIzZa/L0qDaNr/PCIGfPsZlkYq/IuR0J0jPvL6NIVwkSKmgKtt7hOlnsWU56MNLQFCatsSQIrLXQ/YwNYG3rdmbsUOzm3Xou890aBOPfSZ+ey5I1vd3Ma3bKrUFBUkIqjSn2tCKTIDDOJv651DwT5wc/dz2OmTaLvPPmU7HA8D4k0zXlT40OObCeFux3vE3tKOgdsYsD4/7vbZ/zPbdqMHa+PF220360CCEnM2RTzuX/apQnjYseqGoggSuxaV3mObY8gd20aLh2ATgUVoSaNbBTYeWxKNgb6TaFNCNVHlKu0lL7GcCCCpTAD2HFMy9jz/c2bS1g6XiwHzl9NCAhs6hoedMLUld2gOC5JU0BBwpkmHqbxvP+4YWIoB+wnW/ROdc2iU/IQnP+GF53Jm9WK6ufvSxm9KPZ6MbFdTQIrgcUTS6TcLlTmDKlC4hHAA0sVF9o/i3ttLLbVvVHvcgO1MkeC51LdzKsusf9GjMXMA6iXS2q7Jd9fGkaXUV68rI4Bc7OFVgoKl2WP6dkz2uZg1z8CwJJDkeY/5b8tMR/b3qhyFB/W7qUtt5ZtIR4bcFFuoi3eAAZqzO1+V8e/9PD8GaOEkHaggRCt3i7EmY8KZZoBYw3u08n5oGPBxPnLAseMyECSsYigzQu0LAmhhyYwtiBGVH467Vz3W+45dxnUh2ocC1TFbK8BE/Egrrz1QvZFQe2mztiMsQ1abmkQh1aFSuaWau96zl0+PgaF0WKd/6v6Em4gBDHeq5tmsk0jeRFyMjlnMmuTW6f05WvGEF3hRiqGbUtPm4x808CJ5rK6J8cu2LnJ86AW8PHFkpFgxf3K3IuSHAJXrkr0HSR59Wj2SoPRtO5wXAzh4zl7JuG1pd/DzYmJ/2rkw8LCmffA8qvrMdXuu51+Z51Cv8XZL9c05O06dRKpZQgxIgI9utsia7oyt8iKhB4eMF+PwkJVp1/I5JiL7UO/FmdeXHGWQqTlJp+6R6YSjTw22V8Yd7nA+DJizFiXqKVoNKlPp2HbYMXBKDPBOF9st9C1DuE75vCvdto+UbevcQDUn6HMJIJqShmcS2bzHjvNTNrusd+yjZ6bb8rHbnmsvPXTn6rkuCxDjee0r29Scd+6Stvc6OwZ2DGwXA/w6aMwArZkY8h2uEQao9uz1xwtPyrcdlmEgiaEg76UMyLKW91o7BnYMbA0DnAnZB5lieIvuznFbe0MX7A/vPGEHHGzudMG2btLtttSiKtk9x27SW9/HepMxwA+EwHCj4f8A6qr2MUgfUwQAAAAASUVORK5CYII=)\n",
        "\n",
        "![image.png](data:image/png;base64,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)\n",
        "\n",
        "![image.png](data:image/png;base64,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)\n",
        "\n",
        "![image.png](data:image/png;base64,iVBORw0KGgoAAAANSUhEUgAAAYAAAAAjCAYAAACdON1LAAAPo0lEQVR4Ae2dZaz1uBGG3zIzg9otMzMzMzMzg6oyw5aZacuobplWZVa5P1oVVUaVW5VRj+T5NN9cO3FycyA5HukoceI4nontYR+pwS5S4HiSnifp6LuIfMO5UWDhFDiOpJdIOu7C8WzojaAAg+NwSScJz95c0vslPTb9qPO2dP5ESR+WdOPwzLYXjybpiMTswOvZkj4u6WkJr9dKevu2I5Hp350lvdN9q3dJenMqHyrpI5Kunnlumy8hlHxM0jMTHs9P3wp8+HZvlMT3mjOcVNJtHQKXSfPqcQnH10t6Xzrn2gck3dfVH3J6JklvkXTkIQ+1usunwCslXSiD5mskncZd/6Kku7nydSTdzJU3eXpCSUeq6MBVJT3E1YOB/dCVmRzgvS0AXjXAxD6Zq/i98G1uIwnctwFOXNkJBJC7uLqcf9WVYeavduU5nvLdYGgGz5F0PiukBfvprnx2SQ9z5aGnMJiHD32o1V8uBW6SpN+IIdrALdzF40v6n6SzumsXlXR+V97k6f0knbGiA/cJdV4k6bBw7Y6hvMkiZrk+OEOQ7mHafCvPEFj8T9fX0JruP0ZSDRO4R+gPEv+zwrW7hvKcileT9FZJT0qdRoC5e0DgN5Ku6a5Btxu68pjTp0q6yJgH2zPLogCLOtJvTso8iyQkLAOk/Z9bIR1RKY8Rrm2qeH9J9LkPzhkqfEMS0rGHc/nChs9fUPF+cPLaD/iAl4dzhzr+3rrPMWVg+uiDc4QKjD/GoQfwmiOwkKPRPN5pANDE04Vx+N9gt+e5U+0TYd7xmS0aD/tEpz0+lgJPSTbwmueRvN5UU3FDdWoZgO/eiZKkfEp/ccvOaxhA7PKrJL04Xtyici0D8F0+m6T/hMXQ35/b+QOSLd4zgIjDvSV9IV6cqIwPz/seJmq2NTMXCuD4/Wuw8Xf1Hdurt/9bXSTPqJbbvdzxWJKuUmnHvKSka+cayVwbwwCwMf8g0xaXbiQJe2ktoA2hyp+24oEnV9SxKmMYAFpdzjdzTEmo/10wpG9HkXRBSThnh8AYBoBp5CuFl9xO0gUK97h8KUnX6Lgfb2H+RDqP2kasN7bM+Ge8AF0MgKALghNy8NzcRXcNU2eXYIMW8CVXv53uGAUY4AywGiB0DFUUKSwCDIBFIMKlJZ0nXpSEE4uFlSiVPsCWXRrED0qRERah9EEX2WPXvO009y7C4pCWc8AExURWAzA1/CHvkBTNFrnnqZuDiwecwAMJ0PCxozfNxXYOSVpNzsZOiG+fyeTCsUFJR83YpqnGt6G9aG6KTTw64OCjrgynK8aHQpmIppKgwZhCoCkBTPkUpZuZ65eQ9NACzladsWF9Lx1zwssJguTdxQB+F+z/9m6OuTnn7zP3+kK6iQwrjUXf1iTn0fZqjd5L0hMkPdgutONaKMAkJHSwBq4v6ReFiiwYLBARkHJY0HJwZknvyd1w15BQSmPGVTtwOkYD+LYkpMcILJ4mocV7XWVCZLv6TIQRE65vYvp3DNUA7iDpm76BdA6j5t2lEEDu8y1hZhHw83TNz9z7Yhu+PEYDYDG8rm8kncOEupzbjKMaphybJqggOmRjnTFlos7A35jGZyV9UtKjQmPn7TB5McYIkS0BgloNw2PtJcR2LRAR9C/FFgXHbbAeChxb0r8HLHKEpuXs/5hQrlWYKPthABdLphRC5HIO6hyVhjIAFg4iZaKGAXNCAqzRUGI/uhgATJIFjEWWyV8LQxkAIaw5+/+tJN1SEt8sAos/5g4WDvIiImyaAbCA5+z/SLmETJa+lY0jIm1qtTnDfVUMwNq340udE9iucSTWP2f/tzFUMg1dOQVmoBH3AZrRd/sq9d3HUw0nQeUnPAnnQg7mwgCIh7cf3HqIHTiH95hrePm7OPyYNv0zSPQ/9RcK55dL3/TXKd768mHBRPJiIJo6yiJjkg0JOq9wZR+61qcBcB/4dIfEmqocONQyAEwk4MFC+c907tVgcEJ6IuTQ4BEOD8OPY/SJdDGAU0uC8d5a0j2t4YpjDQNgAQcn7P5/TDZ5yki/BuDF9yBkNAIaD3ZvTBYWY858NlzR0D/kyg8MDaxKA2AcXCEl5v024eht/eBEnZeF/ljRxtHn3DgitNnwikdvWlsHA+Ab4VvDFIOfAiA8E38FNGURpw5j1uD0adyVEjAJ02b9qE1m/HOY0/YeESFCFpoRiU7ahLbsSRZ/Ov4pSXBbgBf7+ON0eY+KY9c5rkMDwD6LZAQ+LFqYQMCDMolQZByidjFocAzaBwHvdQPZfiUOP0VfcFZCjz5g8MWfl5ixu345RWZEM9B+NAD6xaJEFnIt1DIAFsCIk2cAvA+7LPkRRAkNgS4GYO0whxhntVDDAHDGRpwoewbAOfO0CyfMATmBZ1MaAGG9ES8TNox+5ElcqQMvxtF7rfKA47oYgOFn6w1j0a7Z0TNtmD1zDl9CSUhE02M+1ABC1k1jReyAOAiJGgBQnzAZeFsa2WknT/Zf7FgAA/Hr6ZyDl5w+6pgJi66fdKtmAAwa+gvxACTbPznbNddhdgx0GAAOJwACk4Y9BqDhEFuvvQO7Oe8kQifHSK0eql7JgWl1Skfan8L2d1lJOPj8t7R3djEABAeYnIc3hOQgonCGmAVp08arb3fMOVtcjLEd49fwWZyYx9COPXzNFyrO44JX8Ui2yvUkERliTl4WF58RzUOfd3PCN9LHAH7k5pZ/rnRO8iBrxRTAusI8MZ8Nc5dF34DFrct/YfXikSADwjC3DTDbkP0MDdFY0AgwI3lAI8pl9vs6do5Assdqw2Dx4Wyohr+0J9LRMvCwl1oYGGF7SCxw5AibNAGRUeidXzCgKBWYQxS8TEXnGk41iDwUmPxjUu9hVDAOnK4+BTy+HzrHrNZYp1RGvRz7rG+TAchC7bUCu19iADANxgcLEM+abRZnrGmRtMGYYjxtAmBoJQd2rj9oQuACToYb9bCpE+9tAJ3ebYU1HzE/0UfTCpAqPQMg0gtnZA5KDAAJnUgr8MZs0eUAz7U7xTU0Fp+NTha3F0jI9B7yLekTTAOc+O2Rjqfo9D7buIEzCyGk4qPzgIbg1zt/L55j8sNHchDED4m0aFKxVbQQPzglNmUAGyR1czHIJQaAhPOMlI4/9EOl1/YeIj6fkES/PRg+cFeTJvDWI2nbPV+/7xyn2tDNt1gAYb4AkuPfMhu0sagwML8jicEe+xbNC7mwvz8UIirSqyc5YPP2klhfo+AEQ2HhZ8FBQ6gdxH1tb+o+eIAXIY4472AGudDATfQPCRz7OkwWuzjCDj6cHKAh58ZRru6mr4GTjSM0wiWMoz6aInRg92ePHzTQnCO/1AZaDubwTiABY78hUfvdgIhYXyZT189LkCWEmJT/cqpwrBeZhTGDWK+vPIYBeLOMaQH+Gu+kf0gApMVDC88AWGh8RATlaMJi4hP90hd33Yff1PdN42QhYrEcwjym7stU7ZHHwOKJ2QXGjmN1WwBHN34bxg+aAYLOEsCPI+bgEsZR13eB2fEtceLfPgkYQwQnNG9vtt/zLksCYgHeJMDZMd10/WpSm+GWeL6HEGkM3kMZAMwrSoeYrnJaAPWwmUfAeek1G5y9jwyVmPQwAHM6hdut2CjQKLBDFCA67ydd+CK5lJKAup7b1nuEtEX7v/UVlRHTRQmQ5nB85wBzjGdOhBH6KCruEQJYgpzaZlpAvEfkg/ksfHuYtvwuf2z4FKVOGB8MwNfzbdg5PoIXtl+jQRsDsx4DMVTZ5rcd8VOSZFcEHAzR/m+VSdLpSrdnscEZOgXgZ/ALbO685o8SCHvyUrLvG33t8p6jBfktkv2z8XyIBkBUUmmvEj4gWoB3tH4rRSv5d8K8+JCm2eD0+30hquMfyXzkn2/njQKNArtHAawJv+pCm7C1kv2f8KuuBRMJdkwkTK4/U/gA+uz/ufeOvTaEAXRt7ITN/sfO049N82epUyTCYL8F8AcQxmeAn8Di6M2xbPdIFpqKMVub7ThvCpAfEP1f88ao9b6GAuS7fD9WJDSPBYVIFMwF2JIp+zhrFveuGGWcE4SIYjbZNOCMo/8stOCDr8DbwGEMcMLS36Wh6WAyIb7WnEx9ONUyAKR/+tT3+3syP9FXnDZE+/g4eeLxySrEZ4O/hD/d4C8CCZOLZisS3XJbAvTh1O4vkwKEOqPZEhHCDpE1+8gskxK7hxWO4z1bTpBlFvdgYRE1wMyA9xjGkAsPg4GwCBFDyws2Ddj1YVgevK0fOzk4Q4gcwzLnLNsH+Jhj3148r80DgM4wp5qfZdvyz1cwAN9XMpYJAeOeRQYh0eWSyUjcszyO2O9WXiYFiCZj64tcbgW+IqJIALaDHpM4lR5vh5lRgPB8HzlY1X0GC+YHEkcskcc/yOKEBkAESi4nwNfdlnP+nm1PRlzoHJK3X3TD7YOK2OAj0zmowoQFGAOefLP/9zX9uokygfve0+5vDwUYt/y9IPMyAmZcG9f8X0CMHIv1W3k5FECojUEmVdiRes/DXXG2pNTPRZ0kYgdtxjL/CI/yfWdDpr4tjKsIt4JKmLNKjvrc65jgcSuGXL12bTkUIDu2b18rAg3YL6hrTi+HIg0TKID2l9sSvZc6qA6YRkzCJwzSHJI8jFQ6dN+T3peusAKJapirbLMsNo7zO1hyL+6CuMLuDGqaCTtkuwoijvjXqAa7QwG2fYDxM1bYjiP+gQp7VzGn16W17g7ltxdT1mhyokY5/7GFE9duf1BM9uadHK7Y1dmHY64AXtjlWVghFHH9fle+ueJFv3EUs7lfzj8wZ7xa38sUYGthEgXJAMeE63eDJbAAQc7MQ9vgtytj0u5MRQH8QWz1PgkgWeD4JKOVHTX5+7auKKFJXrrCRpgQ2EVfnrYGNkfwCl+51qbZRbEvSWStHWovWxkFTNKzfeUp++QfwoV9FJpp9SvrUGt4KyjAbs2l/1IY3EFsjAwsFkrCR+e8+A9GfoYPkNtxxAz73bo8nAJo4/zfhQERemSNN9htCpAUSxh6gx2kAGYgokJijsAOkmLxKGP797vxEvXht6lePAEagnsoQKRm8wPuIctuXSBZDFNdg2VTgOgfn/jI34GS18M/R031xyzLpuDysCOCkwTABjtMASJB2OjP7zO0w+RYJOpE9fwl/ceCIYj/h/ydqbZpsXbbcR4UQOsvJb3OA4PWy8kowH+fHjZZa62hbaRA9MfBFDa9vfs20mlX+sTfQMYxsSu4NzwDBYh04i/h4oZxoVorNgo0CiyAAmh9mH4bNAocoABx4GQ5W5jggRvtpFGgUWAxFEDq5y9va7eMWQziDZF+CpDHcXjLBO0nVKvRKDBDChD1RzJrb6b3/wExZcR5l+MuLQAAAABJRU5ErkJggg==)"
      ],
      "metadata": {
        "id": "IasG3B-R8fBS"
      }
    },
    {
      "cell_type": "markdown",
      "source": [
        "INITIAL CONDITIONS:\n",
        "Δx = 1 and α = 2.0\n",
        "\n",
        "At t=0,\n",
        "\n",
        "plate length = 100\n",
        "\n",
        "\n"
      ],
      "metadata": {
        "id": "832rCJ9uBSyp"
      }
    },
    {
      "cell_type": "markdown",
      "source": [
        "BOUNDARY CONDITIONS:\n",
        "\n",
        "Plate temperature:\n",
        "\n",
        "top = 0 °C\n",
        "\n",
        "left = 0 °C\n",
        "\n",
        "right = 0°C\n",
        "\n",
        "bottom = 50°C"
      ],
      "metadata": {
        "id": "PfhEzSa3-2da"
      }
    },
    {
      "cell_type": "code",
      "source": [
        "# use of numpy (for array related operations)\n",
        "import numpy as np\n",
        "\n",
        "plate_length = 100\n",
        "max_iter_time = 100\n",
        "\n",
        "alpha = 2.0\n",
        "delta_x = 1\n",
        "\n",
        "# Calculations\n",
        "delta_t = (delta_x ** 2)/(4 * alpha)\n",
        "gamma = (alpha * delta_t) / (delta_x ** 2)\n",
        "\n",
        "# Initialize solution: the grid of u(k, i, j)\n",
        "u = np.empty((max_iter_time, plate_length, plate_length))\n",
        "\n",
        "# Initial condition everywhere inside the grid\n",
        "u_initial = 0.0\n",
        "\n",
        "# Boundary conditions (fixed temperature)\n",
        "u_top = 0.0\n",
        "u_left = 0.0\n",
        "u_bottom = 50.0\n",
        "u_right = 0.0\n",
        "\n",
        "# Set the initial condition\n",
        "u.fill(u_initial)\n",
        "\n",
        "# Set the boundary conditions\n",
        "u[:, (plate_length-1):, :] = u_top\n",
        "u[:, :, :1] = u_left\n",
        "u[:, :1, 1:] = u_bottom\n",
        "u[:, :, (plate_length-1):] = u_right\n",
        "for k in range(0, max_iter_time-1, 1):\n",
        "  for i in range(1, plate_length-1, delta_x):\n",
        "    for j in range(1, plate_length-1, delta_x):\n",
        "      u[k + 1, i, j] = gamma * (u[k][i+1][j] + u[k][i-1][j] + u[k][i][j+1] + u[k][i][j-1] - 4*u[k][i][j]) + u[k][i][j]\n",
        "print(u.round(2))"
      ],
      "metadata": {
        "id": "2HhOTYje_Duk",
        "colab": {
          "base_uri": "https://localhost:8080/"
        },
        "outputId": "3ec332eb-e86b-49a3-e2a5-0fb9cb22516e"
      },
      "execution_count": null,
      "outputs": [
        {
          "output_type": "stream",
          "name": "stdout",
          "text": [
            "[[[ 0.   50.   50.   ... 50.   50.    0.  ]\n",
            "  [ 0.    0.    0.   ...  0.    0.    0.  ]\n",
            "  [ 0.    0.    0.   ...  0.    0.    0.  ]\n",
            "  ...\n",
            "  [ 0.    0.    0.   ...  0.    0.    0.  ]\n",
            "  [ 0.    0.    0.   ...  0.    0.    0.  ]\n",
            "  [ 0.    0.    0.   ...  0.    0.    0.  ]]\n",
            "\n",
            " [[ 0.   50.   50.   ... 50.   50.    0.  ]\n",
            "  [ 0.   12.5  12.5  ... 12.5  12.5   0.  ]\n",
            "  [ 0.    0.    0.   ...  0.    0.    0.  ]\n",
            "  ...\n",
            "  [ 0.    0.    0.   ...  0.    0.    0.  ]\n",
            "  [ 0.    0.    0.   ...  0.    0.    0.  ]\n",
            "  [ 0.    0.    0.   ...  0.    0.    0.  ]]\n",
            "\n",
            " [[ 0.   50.   50.   ... 50.   50.    0.  ]\n",
            "  [ 0.   15.62 18.75 ... 18.75 15.62  0.  ]\n",
            "  [ 0.    3.12  3.12 ...  3.12  3.12  0.  ]\n",
            "  ...\n",
            "  [ 0.    0.    0.   ...  0.    0.    0.  ]\n",
            "  [ 0.    0.    0.   ...  0.    0.    0.  ]\n",
            "  [ 0.    0.    0.   ...  0.    0.    0.  ]]\n",
            "\n",
            " ...\n",
            "\n",
            " [[ 0.   50.   50.   ... 50.   50.    0.  ]\n",
            "  [ 0.   24.68 34.24 ... 34.24 24.68  0.  ]\n",
            "  [ 0.   14.48 23.73 ... 23.73 14.48  0.  ]\n",
            "  ...\n",
            "  [ 0.    0.    0.   ...  0.    0.    0.  ]\n",
            "  [ 0.    0.    0.   ...  0.    0.    0.  ]\n",
            "  [ 0.    0.    0.   ...  0.    0.    0.  ]]\n",
            "\n",
            " [[ 0.   50.   50.   ... 50.   50.    0.  ]\n",
            "  [ 0.   24.68 34.25 ... 34.25 24.68  0.  ]\n",
            "  [ 0.   14.49 23.75 ... 23.75 14.49  0.  ]\n",
            "  ...\n",
            "  [ 0.    0.    0.   ...  0.    0.    0.  ]\n",
            "  [ 0.    0.    0.   ...  0.    0.    0.  ]\n",
            "  [ 0.    0.    0.   ...  0.    0.    0.  ]]\n",
            "\n",
            " [[ 0.   50.   50.   ... 50.   50.    0.  ]\n",
            "  [ 0.   24.68 34.25 ... 34.25 24.68  0.  ]\n",
            "  [ 0.   14.49 23.76 ... 23.76 14.49  0.  ]\n",
            "  ...\n",
            "  [ 0.    0.    0.   ...  0.    0.    0.  ]\n",
            "  [ 0.    0.    0.   ...  0.    0.    0.  ]\n",
            "  [ 0.    0.    0.   ...  0.    0.    0.  ]]]\n"
          ]
        }
      ]
    },
    {
      "cell_type": "markdown",
      "source": [
        "**USING EXPLICIT METHOD**\n"
      ],
      "metadata": {
        "id": "sDT7JDxk2Vtn"
      }
    },
    {
      "cell_type": "markdown",
      "source": [
        "NAME OF EQUATION: Heat diffusion equation\n",
        "\n",
        "\n",
        "\n"
      ],
      "metadata": {
        "id": "cVzzTdu83qvp"
      }
    },
    {
      "cell_type": "markdown",
      "source": [
        "BOUNDARY CONDITIONS:\n",
        "\n",
        "T(0,t)=0\n",
        "\n",
        "T(L,t)"
      ],
      "metadata": {
        "id": "T_8uOEOGaybn"
      }
    },
    {
      "cell_type": "markdown",
      "source": [
        "INITIAL CONDITIONS:\n",
        "\n",
        "At t=0,\n"
      ],
      "metadata": {
        "id": "Dvm9eKpFayP7"
      }
    },
    {
      "cell_type": "code",
      "execution_count": null,
      "metadata": {
        "colab": {
          "base_uri": "https://localhost:8080/"
        },
        "outputId": "2ce67551-e2ce-450d-dd0c-6ecb6dc7e134",
        "id": "jQyacdqq7wLx"
      },
      "outputs": [
        {
          "output_type": "stream",
          "name": "stdout",
          "text": [
            "[[0.   0.   0.   0.   0.  ]\n",
            " [0.71 0.   0.   0.   0.  ]\n",
            " [1.   0.   0.   0.   0.  ]\n",
            " [0.71 0.   0.   0.   0.  ]\n",
            " [0.   0.   0.   0.   0.  ]]\n",
            "[[ 0.  0.  0.  0.  0.]\n",
            " [ 0.  0.  0.  0. -0.]\n",
            " [ 0.  0.  0. -0.  0.]\n",
            " [ 0.  0. -0.  0. -0.]\n",
            " [ 0.  0.  0.  0.  0.]]\n"
          ]
        }
      ],
      "source": [
        "import numpy as np\n",
        "import matplotlib.pyplot as plt\n",
        "h=0.25\n",
        "k=0.25\n",
        "x = np.arange(0,1+h,h)\n",
        "t = np.arange(0,1+k,k)\n",
        "boundaryConditions=[0,0]\n",
        "initialConditions = np.sin(np.pi*x)\n",
        "n=len(x)\n",
        "m=len(t)\n",
        "T=np.zeros((n,m))\n",
        "T[0:] = boundaryConditions[0]\n",
        "T[-1:] = boundaryConditions[1]\n",
        "T[:,0] = initialConditions\n",
        "print(T.round(2))\n",
        "factor=(k/h**2)\n",
        "for j in range(m):\n",
        "  for i in range(1,n-1):\n",
        "\n",
        "    T[i,j]=factor*T[i-1,j-1]+(1-2*factor)*T[i,j-1]+factor*T[i+1,j-1]\n",
        "print(T.round(2))\n"
      ]
    },
    {
      "cell_type": "markdown",
      "source": [],
      "metadata": {
        "id": "HI3NxAo68WYK"
      }
    }
  ]
}